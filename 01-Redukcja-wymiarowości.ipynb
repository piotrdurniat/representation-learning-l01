{
 "cells": [
  {
   "cell_type": "markdown",
   "id": "70fb3124",
   "metadata": {},
   "source": [
    "Przed oddaniem zadania upewnij się, że wszystko działa poprawnie.\n",
    "**Uruchom ponownie kernel** (z paska menu: Kernel$\\rightarrow$Restart) a następnie\n",
    "**wykonaj wszystkie komórki** (z paska menu: Cell$\\rightarrow$Run All).\n",
    "\n",
    "Upewnij się, że wypełniłeś wszystkie pola `TU WPISZ KOD` lub `TU WPISZ ODPOWIEDŹ`, oraz\n",
    "że podałeś swoje imię i nazwisko poniżej:"
   ]
  },
  {
   "cell_type": "code",
   "execution_count": null,
   "id": "197b4b86",
   "metadata": {},
   "outputs": [],
   "source": [
    "NAME = \"\""
   ]
  },
  {
   "cell_type": "markdown",
   "id": "3e453b34",
   "metadata": {},
   "source": [
    "---"
   ]
  },
  {
   "cell_type": "markdown",
   "id": "ba1beb21",
   "metadata": {},
   "source": [
    "# 0. Wstęp\n",
    "W trakcie pierwszego laboratorium zbadamy kilka możliwości ewaluacji wyuczonych reprezentacji. Będzie to podstawą dalszej pracy z różnymi modelami uczenia reprezentacji. \n",
    "\n",
    "Często spotykanym rozwiązaniem, stosowanym również w trakcie badań modelu i jego wstępnej ewaluacji, jest **wizualizacja ukrytej przestrzeni (reprezentacji)** na płaszczyźnie dwu-wymiarowej. Czasami można się również spotkać z wizualizacją w przestrzeni trójwymiarowej, jednak takie rozwiązanie wymaga interaktywnego widoku. Stąd też w literaturze spotykamy tylko dwu-wymiarowe rzutowania.\n",
    "\n",
    "Wizualizacje są przygotowane w taki sposób, aby każdy punkt na wykresie odpowiadał pojedynczej próbce danych, natomiast kolor jest zgodny z klasą danej próbki."
   ]
  },
  {
   "cell_type": "markdown",
   "id": "0cbbff30",
   "metadata": {},
   "source": [
    "Istnieje wiele metod pozwalających na **redukcję wymiarowości** i sprowadzenia wektorów reprezentacji z wysoko-wymiarowej przestrzeni ukrytej do wektorów dwu-wymiarowych. Można je podzielić na:\n",
    "- metody liniowe:\n",
    "    * PCA - Principal Component Analysis\n",
    "    * FA - Factor Analysis\n",
    "    * LDA - Linear Discriminant Analysis\n",
    "    * SVD - (Truncated) Singular Value Decomposition\n",
    "- metody nie-liniowe:\n",
    "    * Kernel PCA\n",
    "    * t-SNE - t-distributed Stochastic Neighbor Embedding\n",
    "    * UMAP - Uniform Manifold Approximation and Projection\n",
    "    * MDS - Multidimensional Scaling\n",
    "    * Isomap - Isometric mapping"
   ]
  },
  {
   "cell_type": "markdown",
   "id": "62ebbbbd",
   "metadata": {},
   "source": [
    "Wybór danej metody redukcji wymiarowości powinien być uzależniony od konkretnego typu danych. **Źle dobrana metoda redukcji wymiarowości może doprowadzić do błędnych wniosków o jakości uzyskanej reprezentacji!**"
   ]
  },
  {
   "cell_type": "markdown",
   "id": "37c56467",
   "metadata": {},
   "source": [
    "**Materiały dodatkowe:**\n",
    "- https://towardsdatascience.com/11-dimensionality-reduction-techniques-you-should-know-in-2021-dcb9500d388b\n",
    "- https://www.sciencedirect.com/science/article/pii/S156625351930377X"
   ]
  },
  {
   "cell_type": "markdown",
   "id": "568d0deb",
   "metadata": {},
   "source": [
    "# 1. Zbiór danych Swiss Roll\n",
    "Zbadamy jakość działania wybranych metod redukcji wymiarowości na przykładzie zbioru Swiss Roll. Jest to zbiór danych, w którym punkty są ułożone w postaci zawiniętego prostokąta. Zbiór ten ze względu na swoją krzywiznę może być wyzwaniem dla niektórych metod redukcji wymiarowości."
   ]
  },
  {
   "cell_type": "code",
   "execution_count": null,
   "id": "a0ecef86",
   "metadata": {
    "tags": []
   },
   "outputs": [],
   "source": [
    "from sklearn.datasets import make_swiss_roll\n",
    "\n",
    "\n",
    "swiss_roll_X, swiss_roll_y = make_swiss_roll(n_samples=1000, noise=0.1, random_state=42)"
   ]
  },
  {
   "cell_type": "code",
   "execution_count": null,
   "id": "02d7fed8",
   "metadata": {
    "tags": []
   },
   "outputs": [],
   "source": [
    "import matplotlib.pyplot as plt\n",
    "from mpl_toolkits.mplot3d.axes3d import Axes3D\n",
    "\n",
    "\n",
    "ax = plt.figure(figsize=(15, 5)).add_subplot(projection='3d')\n",
    "\n",
    "ax.view_init(7, -65)\n",
    "\n",
    "ax.scatter(\n",
    "    xs=swiss_roll_X[:, 0],\n",
    "    ys=swiss_roll_X[:, 1],\n",
    "    zs=swiss_roll_X[:, 2],\n",
    "    c=swiss_roll_y,\n",
    "    cmap=\"Spectral\",\n",
    "    s=10, \n",
    "    alpha=0.5,\n",
    ")\n",
    "ax.set(title=\"Zbiór danych Swiss Roll\")"
   ]
  },
  {
   "cell_type": "markdown",
   "id": "a547aed2",
   "metadata": {},
   "source": [
    "## Zadanie 1.1 (0.5 pkt)\n",
    "Zbadamy następujące metody redukcji wymiarowości: PCA, MDS, Isomap, t-SNE oraz UMAP. Zaimplementuj poniżej zdefiniowane funkcje, które zastosują podane metody na danych wejściowych `x` zwracając dla każdego punktu jego dwu-wymiarowe rzutowanie. Pamiętaj o przekazaniu dodatkowych argumentów (hiperparameterów) do konstruktora metody (dla Isomap, t-SNE oraz UMAP)."
   ]
  },
  {
   "cell_type": "code",
   "execution_count": null,
   "id": "8fe13b29",
   "metadata": {
    "deletable": false,
    "nbgrader": {
     "cell_type": "code",
     "checksum": "b2143d8afd09840332c9e206d687b673",
     "grade": true,
     "grade_id": "dim-reduction-implementation",
     "locked": false,
     "points": 0.5,
     "schema_version": 3,
     "solution": true,
     "task": false
    },
    "tags": []
   },
   "outputs": [],
   "source": [
    "import numpy as np\n",
    "\n",
    "\n",
    "def compute_PCA(x: np.ndarray) -> np.ndarray:\n",
    "    # TU WPISZ KOD\n",
    "    raise NotImplementedError()\n",
    "\n",
    "def compute_MDS(x: np.ndarray) -> np.ndarray:\n",
    "    # TU WPISZ KOD\n",
    "    raise NotImplementedError()\n",
    "\n",
    "\n",
    "def compute_Isomap(x: np.ndarray, n_neighbors: int = 30) -> np.ndarray:\n",
    "    # TU WPISZ KOD\n",
    "    raise NotImplementedError()\n",
    "\n",
    "\n",
    "def compute_tSNE(x: np.ndarray, perplexity: int = 50) -> np.ndarray:\n",
    "    # TU WPISZ KOD\n",
    "    raise NotImplementedError()\n",
    "\n",
    "\n",
    "def compute_UMAP(x: np.ndarray, n_neighbors: int = 30, min_dist: float = 0.3) -> np.ndarray:\n",
    "    # TU WPISZ KOD\n",
    "    raise NotImplementedError()"
   ]
  },
  {
   "cell_type": "code",
   "execution_count": null,
   "id": "dae26a96",
   "metadata": {
    "tags": []
   },
   "outputs": [],
   "source": [
    "methods = [\n",
    "    (\"PCA\", compute_PCA),\n",
    "    (\"MDS\", compute_MDS),\n",
    "    (\"Isomap\", compute_Isomap),\n",
    "    (\"t-SNE\", compute_tSNE),\n",
    "    (\"UMAP\", compute_UMAP)\n",
    "]"
   ]
  },
  {
   "cell_type": "code",
   "execution_count": null,
   "id": "c392ed3a",
   "metadata": {
    "tags": []
   },
   "outputs": [],
   "source": [
    "from time import perf_counter\n",
    "\n",
    "\n",
    "fig, axs = plt.subplots(ncols=len(methods), figsize=(15, 5))\n",
    "\n",
    "\n",
    "for ax, (name, compute_fn) in zip(axs.ravel(), methods):\n",
    "    # Apply dimensionality reduction method and measure time\n",
    "    start = perf_counter()\n",
    "    z_2d = compute_fn(x=swiss_roll_X)\n",
    "    end = perf_counter()\n",
    "    \n",
    "    # Plot 2-D projections\n",
    "    ax.scatter(z_2d[:, 0], z_2d[:, 1], c=swiss_roll_y, cmap=\"Spectral\", s=10)\n",
    "    ax.set(title=f\"{name} ({end - start:.2f} [s])\")\n",
    "    \n",
    "    \n",
    "fig.tight_layout()"
   ]
  },
  {
   "cell_type": "markdown",
   "id": "a670cb03",
   "metadata": {},
   "source": [
    "## Zadanie 1.2 (0.25 pkt)\n",
    "Która z metod twoim zdaniem zadziałała najlepiej? Uzasadnij."
   ]
  },
  {
   "cell_type": "markdown",
   "id": "97b9fc64",
   "metadata": {
    "deletable": false,
    "nbgrader": {
     "cell_type": "markdown",
     "checksum": "8d23e316dae2bf9c89bea8ab65979d3b",
     "grade": true,
     "grade_id": "dim-reduction-comparison-swiss-roll",
     "locked": false,
     "points": 0.25,
     "schema_version": 3,
     "solution": true,
     "task": false
    }
   },
   "source": [
    "TU WPISZ ODPOWIEDŹ"
   ]
  },
  {
   "cell_type": "markdown",
   "id": "2ff766f2",
   "metadata": {},
   "source": [
    "# 2. Zbiór danych \"blobs\"\n",
    "Następnie sprawdzimy zbiór, w którym instancje są opisane przez wysoko-wymiarowe wektory cech - wykorzystamy próbkowanie z wielowymiarowych rozkładów normalnych (funkcja `make_blobs`)."
   ]
  },
  {
   "cell_type": "code",
   "execution_count": null,
   "id": "4bd40a58",
   "metadata": {
    "tags": []
   },
   "outputs": [],
   "source": [
    "from sklearn.datasets import make_blobs\n",
    "\n",
    "\n",
    "blobs_X, blobs_y = make_blobs(n_samples=1000, n_features=128, centers=5, random_state=42)"
   ]
  },
  {
   "cell_type": "code",
   "execution_count": null,
   "id": "c3e692a9",
   "metadata": {
    "tags": []
   },
   "outputs": [],
   "source": [
    "fig, axs = plt.subplots(ncols=len(methods), figsize=(15, 5))\n",
    "\n",
    "\n",
    "for ax, (name, compute_fn) in zip(axs.ravel(), methods):\n",
    "    # Apply dimensionality reduction method and measure time\n",
    "    start = perf_counter()\n",
    "    z_2d = compute_fn(x=blobs_X)\n",
    "    end = perf_counter()\n",
    "    \n",
    "    # Plot 2-D projections\n",
    "    ax.scatter(z_2d[:, 0], z_2d[:, 1], c=blobs_y, cmap=\"Spectral\", s=10)\n",
    "    ax.set(title=f\"{name} ({end - start:.2f} [s])\")\n",
    "    \n",
    "    \n",
    "fig.tight_layout()"
   ]
  },
  {
   "cell_type": "markdown",
   "id": "ae7b1cb6",
   "metadata": {},
   "source": [
    "## Zadanie 2.1 (0.25 pkt)\n",
    "Jak zachowują się zbadane metody w porównaniu do zbioru Swiss Roll?"
   ]
  },
  {
   "cell_type": "markdown",
   "id": "0cabda12",
   "metadata": {
    "deletable": false,
    "nbgrader": {
     "cell_type": "markdown",
     "checksum": "28d9bce4a5d8f1a4ad4f6560141a9cf5",
     "grade": true,
     "grade_id": "dim-reduction-comparison-blobs",
     "locked": false,
     "points": 0.25,
     "schema_version": 3,
     "solution": true,
     "task": false
    }
   },
   "source": [
    "TU WPISZ ODPOWIEDŹ"
   ]
  }
 ],
 "metadata": {
  "kernelspec": {
   "display_name": "Python 3 (ipykernel)",
   "language": "python",
   "name": "python3"
  },
  "language_info": {
   "codemirror_mode": {
    "name": "ipython",
    "version": 3
   },
   "file_extension": ".py",
   "mimetype": "text/x-python",
   "name": "python",
   "nbconvert_exporter": "python",
   "pygments_lexer": "ipython3",
   "version": "3.11.9"
  }
 },
 "nbformat": 4,
 "nbformat_minor": 5
}
